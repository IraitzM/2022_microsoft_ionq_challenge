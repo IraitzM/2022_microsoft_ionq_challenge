{
 "cells": [
  {
   "cell_type": "code",
   "execution_count": 2,
   "metadata": {},
   "outputs": [],
   "source": [
    "from qiskit import QuantumCircuit\n",
    "from azure.quantum.qiskit import AzureQuantumProvider"
   ]
  },
  {
   "cell_type": "code",
   "execution_count": 3,
   "metadata": {},
   "outputs": [],
   "source": [
    "provider = AzureQuantumProvider (\n",
    "    resource_id = \"/subscriptions/b1d7f7f8-743f-458e-b3a0-3e09734d716d/resourceGroups/aq-hackathons/providers/Microsoft.Quantum/Workspaces/aq-hackathon-01\",\n",
    "    location = \"eastus\"\n",
    ")"
   ]
  },
  {
   "cell_type": "code",
   "execution_count": 4,
   "metadata": {},
   "outputs": [],
   "source": [
    "def random_generator(n: int, backend_name = \"ionq.simulator\"):\n",
    "    # Define our circuit\n",
    "    circuit = QuantumCircuit(n, n)\n",
    "    circuit.name = f\"Random {n}-qubit generator circuit\"\n",
    "    meas_array = []\n",
    "    for i in range(n):\n",
    "        circuit.h(i)\n",
    "        meas_array += [i]\n",
    "    circuit.measure(meas_array,meas_array)\n",
    "    circuit.draw()\n",
    "    \n",
    "    # Set the backend\n",
    "    qpu_backend = provider.get_backend(backend_name)\n",
    "    qpu_job = qpu_backend.run(circuit, shots=50)\n",
    "\n",
    "    # Wait until job is finished\n",
    "    result = qpu_job.result()\n",
    "    counts = result.get_counts()\n",
    "    \n",
    "    return counts"
   ]
  },
  {
   "cell_type": "code",
   "execution_count": 6,
   "metadata": {},
   "outputs": [
    {
     "name": "stdout",
     "output_type": "stream",
     "text": [
      "......................................"
     ]
    },
    {
     "data": {
      "text/plain": [
       "{'000': 13,\n",
       " '001': 3,\n",
       " '010': 5,\n",
       " '011': 4,\n",
       " '100': 6,\n",
       " '101': 10,\n",
       " '110': 7,\n",
       " '111': 2}"
      ]
     },
     "execution_count": 6,
     "metadata": {},
     "output_type": "execute_result"
    }
   ],
   "source": [
    "random_generator(3, \"ionq.qpu\")"
   ]
  }
 ],
 "metadata": {
  "interpreter": {
   "hash": "c91ea45acfff8ff1e7c505791cadd5a233956b0ea70fb91076cb66c0a53c26b8"
  },
  "kernelspec": {
   "display_name": "Python 3.8.5 64-bit ('.venv': venv)",
   "language": "python",
   "name": "python3"
  },
  "language_info": {
   "codemirror_mode": {
    "name": "ipython",
    "version": 3
   },
   "file_extension": ".py",
   "mimetype": "text/x-python",
   "name": "python",
   "nbconvert_exporter": "python",
   "pygments_lexer": "ipython3",
   "version": "3.8.5"
  },
  "orig_nbformat": 4
 },
 "nbformat": 4,
 "nbformat_minor": 2
}
